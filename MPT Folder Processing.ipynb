{
 "cells": [
  {
   "cell_type": "code",
   "execution_count": 2,
   "id": "c5e858a6",
   "metadata": {},
   "outputs": [],
   "source": [
    "import pandas as pd\n",
    "import os"
   ]
  },
  {
   "cell_type": "code",
   "execution_count": 7,
   "id": "d2ab1086",
   "metadata": {},
   "outputs": [],
   "source": [
    " def mpt_multi_file_tracking (method, filepath = os.getcwd, result_location = None):\n",
    "     \"\"\"\n",
    "    Takes in a folder of tif files and loops through them. Passes each file into the given function or script, \n",
    "    and compiles the results. Returns the results in a single Dataframe. \n",
    "    \n",
    "    Parameters\n",
    "    ---------\n",
    "    method: String\n",
    "    \n",
    "        name of function/script that particles will be processed with\n",
    "        \n",
    "    filepath: String\n",
    "    \n",
    "        location where mpt files are stored (default is user's current working directory)\n",
    "        \n",
    "    result_location: String\n",
    "    \n",
    "        location where results will be saved as a .csv file (default is none, so results will not be saved)\n",
    "\n",
    "\n",
    "    Returns\n",
    "    ---------  \n",
    "    results: Pandas DataFrame\n",
    "        \n",
    "        dataframe containing output of particle tracking function or script\n",
    "    \"\"\"\n",
    "        \n",
    "    filelist = []\n",
    "    \n",
    "    # adds all files in directory to the list of files to be iterated over\n",
    "    for file in listdir(filepath):\n",
    "        if isfile:\n",
    "            filelist.add(file) \n",
    "         \n",
    "    # adds concatenates the results of all of the processing functions together\n",
    "    results = pd.Dataframe()\n",
    "    for i in range(len(filelist)):\n",
    "        results = pd.concat (results, method(filelist[i]), axis = 0) # vertically concatenated\n",
    "        \n",
    "        \n",
    "    # saves the results to the given location, name at end\n",
    "    results.to_csv(result_location)\n",
    "    \n",
    "    # returns the results\n",
    "    return results"
   ]
  }
 ],
 "metadata": {
  "kernelspec": {
   "display_name": "Python 3 (ipykernel)",
   "language": "python",
   "name": "python3"
  },
  "language_info": {
   "codemirror_mode": {
    "name": "ipython",
    "version": 3
   },
   "file_extension": ".py",
   "mimetype": "text/x-python",
   "name": "python",
   "nbconvert_exporter": "python",
   "pygments_lexer": "ipython3",
   "version": "3.8.16"
  }
 },
 "nbformat": 4,
 "nbformat_minor": 5
}
